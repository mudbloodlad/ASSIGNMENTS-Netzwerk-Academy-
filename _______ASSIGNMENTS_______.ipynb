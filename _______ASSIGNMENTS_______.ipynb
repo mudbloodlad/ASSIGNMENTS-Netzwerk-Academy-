# TASK 1

#----------------------------------------------------TASK 1---------------------------------------------------------------------
#-------------------------------SOME INBUILT METHODS FOR STRING MANIPULATION----------------------------------------------------

#1 join()
#  Joins the elements of an iterable to the end of the string
#reversing a string using .join
a="Samim"
print("".join(a[::-1]))

#2 replace()
#  Returns a string where a specified value is replaced with a specified value
str="I am a boy"
print(str.replace("boy","programmer"))


#3 count
#  Returns the number of times a specified value occurs in a string
str1="Is it to late now to say sorry"
a=str1.count("to")
print(a)

#4 swapcase()
#  Swaps cases, lower case becomes upper case and vice versa
str2="tHIS iS A sWAPPED sTRING"
txt=str2.swapcase()
print(txt)

#5 split()
#  Split a string into a list where each word is a list item

str3="I Me Myself"
split_text=str3.split()
print(split_text)

#6 find()
#  Searches the string for a specified value and returns the position of where it was found

str6="Where the mind is without fear"
str6.find("mind")


#7 center()
#  Returns a centered String
x="banana"
print(x.center(100))

# TASK 2

#-----------------------------------------------------Task 2--------------------------------------------------------------------
#--------------------------------------------finding a word inside a string-----------------------------------------------------

str1="Welcome to python"
"to" in str1

# TASK 3

#-----------------------------------------------------Task 3-------------------------------------------------------------------
#-------------------------------------------SOME INBUILT METHODS FOR LISTS----------------------------------------------------- 
#1 remove()
#2 count()
#3 clear()
#4 sort()
#5 reverse()

#1 remove()
#  The remove() method removes the first matching element (which is passed as an argument) from the list.
list1=[1,"dog","turle",3,"python"]
list1.remove("dog")
list1
    

#2 count()
#  The count() is a built-in function in Python. It will return you the count of a given element in the list.
list2=[1,2,3,4,4,5,6,7,8,8,8,]
list2.count(8)


#3 clear()
list2.clear()
print(list2)

#4 sort()
list4=[9,3,6,7,4,8,0,1]
list4.sort()
print(list4) #sort() METHOD DOESN'T RETURN ANY VALUE .: PRINT() IS USED 

sorted(list4,reverse=True) #sorted() METHOD RETURNS THE SORTED LIST //ALTERNATIVE TO SORT

# reverse()
# reverses the elements of a list
list5=['a','e','i','o','u']
list5.reverse()
list5

# TASK 4

#-------------------------------------------------------Task 4------------------------------------------------------------------
#Add item 70 after 60 in the following Python List
#input
l1 = [10, 20, [30, 40, [50, 60], 80], 90, 100]
#output [10, 20, [30, 40, [50, 60, 70], 80], 90, 100]

#add sublist [7,8]
#input
l2 = [1,2,[3,4,5,6],9]
#output
[1,2,[3,4,5,6,[7,8]],9]


l1 = [10, 20, [30, 40, [50, 60], 80], 90, 100]
a=70
l1[2][2].insert(2,a)   # append function is not working on int values
l1

l2 = [1,2,[3,4,5,6],9]
sublist=[7,8]
l2[2].insert(4,sublist) # extend function adds the numbers as integers not list
l2

# TASK 5

#-------------------------------------------------------Task 5------------------------------------------------------------------
# From the below dictionary, do the following tasks
# access "Mike"
# access 80
# change "Mike" to "Your name"
# add ML = 80 and DL = 80 inside marks

dict1 = { 
   "april_batch":{ 
      "student":{ 
         "name":"Mike",
         "marks":{ 
            "python":80,
            "maths":70
         }
      }
   }
}
dict1

# accessing "Mike"
dict1["april_batch"]["student"]["name"]

# accessing 80
dict1["april_batch"]["student"]["marks"]["python"]

# changing "Mike" to "Your name"
dict1["april_batch"]["student"]["name"]="Your name"
dict1

# add ML = 80 and DL = 80 inside marks
added_subs={"python":80,"Maths":70,"ML":80,"DL":80}
dict1["april_batch"]["student"]["marks"]=added_subs
dict1

# TASK 6


# task4 - Add and remove the elements from a tuple. (Refer workaroud to modify the tuples)
#adding element

tup1=(1,2,'a',3,'b',4,5,6,8)
listt=list(tup1) #converting to list
listt[0]=0       #adding 0 at 0th index/

tup1=tuple(listt) #converting back to tuple
print("Tuple after Adding an element ",tup1)

#removing item
listr=list(tup1)
listr.pop(2)
tup1=tuple(listr)
print("Tuple after removing an element",tup1)




# TASK 8

# using while loop print numbers from 10 to 1
# try using for loop to loop over tuples,sets and dictionaries

i=10
while(i>0):
    print(i)
    i=i-1

tup = (1,2,3,4,5,6,7)
set = {1,2,3,4,"string",9}
dict = { "Colour":"Black","Model":"Thunderbird","Price":2500000 }
for k,v in dict.items():
    print(k,v)
for item in tup:
    print(item)
for items in set:
    print(items)

# Task 9

#Ask 2 numbers from users and store it in num1 and num2
#Ask user to press 1 for addition,2 for subtraction,3 for multiplication and 4 for division
#create 4 seperate functions for each operation (i.e. addition,subtraction,multiplication and division)
#based on number given by user,call that perticular function and print the output

#create 4 seperate functions for each operation (i.e. addition,subtraction,multiplication and division)
def add(x,y):
    sum1 = x+y
    print("Result of Addition = ",sum1)
    
def subt(x,y):
    diff = x-y
    print("Result of Substraction = ",diff)
    
def mult(x,y):
    product = x*y
    print("Result of Multiplication = ",product)
    
def div(x,y):
    division = x/y
    print("Result of division = ",division)
    
def calculate():
     #Ask 2 numbers from users and store it in num1 and num2
     num1 = int(input("Enter first number"))
     num2 = int(input("Enter second number"))
     #Ask user to press 1 for addition,2 for subtraction,3 for multiplication and 4 for division
     print("Press 1 for Addition")
     print("Press 2 for Subtraction")
     print("Press 3 for Multiplication")
     print("Press 4 for Division")
     #based on number given by user,call that perticular function and print the output
     choice = int(input("Enter your choice : "))
     if(choice==1):
        add(num1,num2)
     elif(choice==2):
        subt(num1,num2)
     elif(choice==3):
        mult(num1,num2)
     elif(choice==4):
        div(num1,num2)
     else:
        print("Invalid Option")
    
 

    
    
 


calculate()



# FINDING NUMBER OF WORDS IN A STRING

c=0
string = "Hello world, this is chitti"
print(string)
for char in string:
        if(char==" "):
            c+=1
words=c+1
print("The number of words in the sentence is ",words)
    





