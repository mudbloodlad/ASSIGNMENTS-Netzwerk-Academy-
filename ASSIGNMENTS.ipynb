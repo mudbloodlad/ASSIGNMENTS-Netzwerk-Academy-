{
 "cells": [
  {
   "cell_type": "markdown",
   "metadata": {},
   "source": [
    "# TASK 1"
   ]
  },
  {
   "cell_type": "code",
   "execution_count": null,
   "metadata": {},
   "outputs": [],
   "source": [
    "#----------------------------------------------------TASK 1---------------------------------------------------------------------\n",
    "#-------------------------------SOME INBUILT METHODS FOR STRING MANIPULATION----------------------------------------------------"
   ]
  },
  {
   "cell_type": "code",
   "execution_count": 8,
   "metadata": {},
   "outputs": [
    {
     "name": "stdout",
     "output_type": "stream",
     "text": [
      "mimaS\n"
     ]
    }
   ],
   "source": [
    "#1 join()\n",
    "#  Joins the elements of an iterable to the end of the string\n",
    "#reversing a string using .join\n",
    "a=\"Samim\"\n",
    "print(\"\".join(a[::-1]))"
   ]
  },
  {
   "cell_type": "code",
   "execution_count": 1,
   "metadata": {},
   "outputs": [
    {
     "name": "stdout",
     "output_type": "stream",
     "text": [
      "I am a programmer\n"
     ]
    }
   ],
   "source": [
    "#2 replace()\n",
    "#  Returns a string where a specified value is replaced with a specified value\n",
    "str=\"I am a boy\"\n",
    "print(str.replace(\"boy\",\"programmer\"))\n"
   ]
  },
  {
   "cell_type": "code",
   "execution_count": 18,
   "metadata": {},
   "outputs": [
    {
     "name": "stdout",
     "output_type": "stream",
     "text": [
      "2\n"
     ]
    }
   ],
   "source": [
    "#3 count\n",
    "#  Returns the number of times a specified value occurs in a string\n",
    "str1=\"Is it to late now to say sorry\"\n",
    "a=str1.count(\"to\")\n",
    "print(a)"
   ]
  },
  {
   "cell_type": "code",
   "execution_count": 24,
   "metadata": {},
   "outputs": [
    {
     "name": "stdout",
     "output_type": "stream",
     "text": [
      "This Is a Swapped String\n"
     ]
    }
   ],
   "source": [
    "#4 swapcase()\n",
    "#  Swaps cases, lower case becomes upper case and vice versa\n",
    "str2=\"tHIS iS A sWAPPED sTRING\"\n",
    "txt=str2.swapcase()\n",
    "print(txt)"
   ]
  },
  {
   "cell_type": "code",
   "execution_count": 25,
   "metadata": {},
   "outputs": [
    {
     "name": "stdout",
     "output_type": "stream",
     "text": [
      "['I', 'Me', 'Myself']\n"
     ]
    }
   ],
   "source": [
    "#5 split()\n",
    "#  Split a string into a list where each word is a list item\n",
    "\n",
    "str3=\"I Me Myself\"\n",
    "split_text=str3.split()\n",
    "print(split_text)"
   ]
  },
  {
   "cell_type": "code",
   "execution_count": 31,
   "metadata": {},
   "outputs": [
    {
     "data": {
      "text/plain": [
       "10"
      ]
     },
     "execution_count": 31,
     "metadata": {},
     "output_type": "execute_result"
    }
   ],
   "source": [
    "#6 find()\n",
    "#  Searches the string for a specified value and returns the position of where it was found\n",
    "\n",
    "str6=\"Where the mind is without fear\"\n",
    "str6.find(\"mind\")\n"
   ]
  },
  {
   "cell_type": "code",
   "execution_count": 34,
   "metadata": {},
   "outputs": [
    {
     "name": "stdout",
     "output_type": "stream",
     "text": [
      "                                               banana                                               \n"
     ]
    }
   ],
   "source": [
    "#7 center()\n",
    "#  Returns a centered String\n",
    "x=\"banana\"\n",
    "print(x.center(100))"
   ]
  },
  {
   "cell_type": "markdown",
   "metadata": {},
   "source": [
    "# TASK 2"
   ]
  },
  {
   "cell_type": "code",
   "execution_count": 52,
   "metadata": {},
   "outputs": [
    {
     "data": {
      "text/plain": [
       "True"
      ]
     },
     "execution_count": 52,
     "metadata": {},
     "output_type": "execute_result"
    }
   ],
   "source": [
    "#-----------------------------------------------------Task 2--------------------------------------------------------------------\n",
    "#--------------------------------------------finding a word inside a string-----------------------------------------------------\n",
    "\n",
    "str1=\"Welcome to python\"\n",
    "\"to\" in str1"
   ]
  },
  {
   "cell_type": "markdown",
   "metadata": {},
   "source": [
    "# TASK 3"
   ]
  },
  {
   "cell_type": "code",
   "execution_count": null,
   "metadata": {},
   "outputs": [],
   "source": [
    "#-----------------------------------------------------Task 3-------------------------------------------------------------------\n",
    "#-------------------------------------------SOME INBUILT METHODS FOR LISTS----------------------------------------------------- \n",
    "#1 remove()\n",
    "#2 count()\n",
    "#3 clear()\n",
    "#4 sort()\n",
    "#5 reverse()"
   ]
  },
  {
   "cell_type": "code",
   "execution_count": 13,
   "metadata": {},
   "outputs": [
    {
     "data": {
      "text/plain": [
       "[1, 'turle', 3, 'python']"
      ]
     },
     "execution_count": 13,
     "metadata": {},
     "output_type": "execute_result"
    }
   ],
   "source": [
    "#1 remove()\n",
    "#  The remove() method removes the first matching element (which is passed as an argument) from the list.\n",
    "list1=[1,\"dog\",\"turle\",3,\"python\"]\n",
    "list1.remove(\"dog\")\n",
    "list1\n",
    "    "
   ]
  },
  {
   "cell_type": "code",
   "execution_count": 15,
   "metadata": {},
   "outputs": [
    {
     "data": {
      "text/plain": [
       "3"
      ]
     },
     "execution_count": 15,
     "metadata": {},
     "output_type": "execute_result"
    }
   ],
   "source": [
    "#2 count()\n",
    "#  The count() is a built-in function in Python. It will return you the count of a given element in the list.\n",
    "list2=[1,2,3,4,4,5,6,7,8,8,8,]\n",
    "list2.count(8)\n"
   ]
  },
  {
   "cell_type": "code",
   "execution_count": 21,
   "metadata": {},
   "outputs": [
    {
     "name": "stdout",
     "output_type": "stream",
     "text": [
      "[]\n"
     ]
    }
   ],
   "source": [
    "#3 clear()\n",
    "list2.clear()\n",
    "print(list2)"
   ]
  },
  {
   "cell_type": "code",
   "execution_count": 24,
   "metadata": {},
   "outputs": [
    {
     "name": "stdout",
     "output_type": "stream",
     "text": [
      "[0, 1, 3, 4, 6, 7, 8, 9]\n"
     ]
    }
   ],
   "source": [
    "#4 sort()\n",
    "list4=[9,3,6,7,4,8,0,1]\n",
    "list4.sort()\n",
    "print(list4) #sort() METHOD DOESN'T RETURN ANY VALUE .: PRINT() IS USED "
   ]
  },
  {
   "cell_type": "code",
   "execution_count": 26,
   "metadata": {},
   "outputs": [
    {
     "data": {
      "text/plain": [
       "[9, 8, 7, 6, 4, 3, 1, 0]"
      ]
     },
     "execution_count": 26,
     "metadata": {},
     "output_type": "execute_result"
    }
   ],
   "source": [
    "sorted(list4,reverse=True) #sorted() METHOD RETURNS THE SORTED LIST //ALTERNATIVE TO SORT"
   ]
  },
  {
   "cell_type": "code",
   "execution_count": 28,
   "metadata": {},
   "outputs": [
    {
     "data": {
      "text/plain": [
       "['u', 'o', 'i', 'e', 'a']"
      ]
     },
     "execution_count": 28,
     "metadata": {},
     "output_type": "execute_result"
    }
   ],
   "source": [
    "# reverse()\n",
    "# reverses the elements of a list\n",
    "list5=['a','e','i','o','u']\n",
    "list5.reverse()\n",
    "list5"
   ]
  },
  {
   "cell_type": "markdown",
   "metadata": {},
   "source": [
    "# TASK 4"
   ]
  },
  {
   "cell_type": "code",
   "execution_count": null,
   "metadata": {},
   "outputs": [],
   "source": [
    "#-------------------------------------------------------Task 4------------------------------------------------------------------\n",
    "#Add item 70 after 60 in the following Python List\n",
    "#input\n",
    "l1 = [10, 20, [30, 40, [50, 60], 80], 90, 100]\n",
    "#output [10, 20, [30, 40, [50, 60, 70], 80], 90, 100]\n",
    "\n",
    "#add sublist [7,8]\n",
    "#input\n",
    "l2 = [1,2,[3,4,5,6],9]\n",
    "#output\n",
    "[1,2,[3,4,5,6,[7,8]],9]\n"
   ]
  },
  {
   "cell_type": "code",
   "execution_count": 33,
   "metadata": {},
   "outputs": [
    {
     "data": {
      "text/plain": [
       "[10, 20, [30, 40, [50, 60, 70], 80], 90, 100]"
      ]
     },
     "execution_count": 33,
     "metadata": {},
     "output_type": "execute_result"
    }
   ],
   "source": [
    "l1 = [10, 20, [30, 40, [50, 60], 80], 90, 100]\n",
    "a=70\n",
    "l1[2][2].insert(2,a)   # append function is not working on int values\n",
    "l1"
   ]
  },
  {
   "cell_type": "code",
   "execution_count": 36,
   "metadata": {},
   "outputs": [
    {
     "data": {
      "text/plain": [
       "[1, 2, [3, 4, 5, 6, [7, 8]], 9]"
      ]
     },
     "execution_count": 36,
     "metadata": {},
     "output_type": "execute_result"
    }
   ],
   "source": [
    "l2 = [1,2,[3,4,5,6],9]\n",
    "sublist=[7,8]\n",
    "l2[2].insert(4,sublist) # extend function adds the numbers as integers not list\n",
    "l2"
   ]
  },
  {
   "cell_type": "markdown",
   "metadata": {},
   "source": [
    "# TASK 5"
   ]
  },
  {
   "cell_type": "code",
   "execution_count": null,
   "metadata": {},
   "outputs": [],
   "source": [
    "#-------------------------------------------------------Task 5------------------------------------------------------------------\n",
    "# From the below dictionary, do the following tasks\n",
    "# access \"Mike\"\n",
    "# access 80\n",
    "# change \"Mike\" to \"Your name\"\n",
    "# add ML = 80 and DL = 80 inside marks"
   ]
  },
  {
   "cell_type": "code",
   "execution_count": 43,
   "metadata": {},
   "outputs": [
    {
     "data": {
      "text/plain": [
       "{'april_batch': {'student': {'name': 'Mike',\n",
       "   'marks': {'python': 80, 'maths': 70}}}}"
      ]
     },
     "execution_count": 43,
     "metadata": {},
     "output_type": "execute_result"
    }
   ],
   "source": [
    "dict1 = { \n",
    "   \"april_batch\":{ \n",
    "      \"student\":{ \n",
    "         \"name\":\"Mike\",\n",
    "         \"marks\":{ \n",
    "            \"python\":80,\n",
    "            \"maths\":70\n",
    "         }\n",
    "      }\n",
    "   }\n",
    "}\n",
    "dict1"
   ]
  },
  {
   "cell_type": "code",
   "execution_count": 39,
   "metadata": {},
   "outputs": [
    {
     "data": {
      "text/plain": [
       "'Mike'"
      ]
     },
     "execution_count": 39,
     "metadata": {},
     "output_type": "execute_result"
    }
   ],
   "source": [
    "# accessing \"Mike\"\n",
    "dict1[\"april_batch\"][\"student\"][\"name\"]"
   ]
  },
  {
   "cell_type": "code",
   "execution_count": 41,
   "metadata": {},
   "outputs": [
    {
     "data": {
      "text/plain": [
       "80"
      ]
     },
     "execution_count": 41,
     "metadata": {},
     "output_type": "execute_result"
    }
   ],
   "source": [
    "# accessing 80\n",
    "dict1[\"april_batch\"][\"student\"][\"marks\"][\"python\"]"
   ]
  },
  {
   "cell_type": "code",
   "execution_count": 44,
   "metadata": {},
   "outputs": [
    {
     "data": {
      "text/plain": [
       "{'april_batch': {'student': {'name': 'Your name',\n",
       "   'marks': {'python': 80, 'maths': 70}}}}"
      ]
     },
     "execution_count": 44,
     "metadata": {},
     "output_type": "execute_result"
    }
   ],
   "source": [
    "# changing \"Mike\" to \"Your name\"\n",
    "dict1[\"april_batch\"][\"student\"][\"name\"]=\"Your name\"\n",
    "dict1"
   ]
  },
  {
   "cell_type": "code",
   "execution_count": 51,
   "metadata": {},
   "outputs": [
    {
     "data": {
      "text/plain": [
       "{'april_batch': {'student': {'name': 'Your name',\n",
       "   'marks': {'python': 80, 'Maths': 70, 'ML': 80, 'DL': 80}}}}"
      ]
     },
     "execution_count": 51,
     "metadata": {},
     "output_type": "execute_result"
    }
   ],
   "source": [
    "# add ML = 80 and DL = 80 inside marks\n",
    "added_subs={\"python\":80,\"Maths\":70,\"ML\":80,\"DL\":80}\n",
    "dict1[\"april_batch\"][\"student\"][\"marks\"]=added_subs\n",
    "dict1"
   ]
  },
  {
   "cell_type": "markdown",
   "metadata": {},
   "source": [
    "# TASK 6\n"
   ]
  },
  {
   "cell_type": "code",
   "execution_count": 38,
   "metadata": {},
   "outputs": [
    {
     "name": "stdout",
     "output_type": "stream",
     "text": [
      "Tuple after Adding an element  (0, 2, 'a', 3, 'b', 4, 5, 6, 8)\n",
      "Tuple after removing an element (0, 2, 3, 'b', 4, 5, 6, 8)\n"
     ]
    }
   ],
   "source": [
    "# task4 - Add and remove the elements from a tuple. (Refer workaroud to modify the tuples)\n",
    "#adding element\n",
    "\n",
    "tup1=(1,2,'a',3,'b',4,5,6,8)\n",
    "listt=list(tup1) #converting to list\n",
    "listt[0]=0       #adding 0 at 0th index/\n",
    "\n",
    "tup1=tuple(listt) #converting back to tuple\n",
    "print(\"Tuple after Adding an element \",tup1)\n",
    "\n",
    "#removing item\n",
    "listr=list(tup1)\n",
    "listr.pop(2)\n",
    "tup1=tuple(listr)\n",
    "print(\"Tuple after removing an element\",tup1)\n",
    "\n",
    "\n"
   ]
  },
  {
   "cell_type": "markdown",
   "metadata": {},
   "source": [
    "# TASK 8"
   ]
  },
  {
   "cell_type": "code",
   "execution_count": null,
   "metadata": {},
   "outputs": [],
   "source": [
    "# using while loop print numbers from 10 to 1\n",
    "# try using for loop to loop over tuples,sets and dictionaries"
   ]
  },
  {
   "cell_type": "code",
   "execution_count": 1,
   "metadata": {},
   "outputs": [
    {
     "name": "stdout",
     "output_type": "stream",
     "text": [
      "10\n",
      "9\n",
      "8\n",
      "7\n",
      "6\n",
      "5\n",
      "4\n",
      "3\n",
      "2\n",
      "1\n"
     ]
    }
   ],
   "source": [
    "i=10\n",
    "while(i>0):\n",
    "    print(i)\n",
    "    i=i-1"
   ]
  },
  {
   "cell_type": "code",
   "execution_count": 22,
   "metadata": {},
   "outputs": [
    {
     "name": "stdout",
     "output_type": "stream",
     "text": [
      "Colour Black\n",
      "Model Thunderbird\n",
      "Price 2500000\n",
      "1\n",
      "2\n",
      "3\n",
      "4\n",
      "5\n",
      "6\n",
      "7\n",
      "1\n",
      "2\n",
      "3\n",
      "4\n",
      "9\n",
      "string\n"
     ]
    }
   ],
   "source": [
    "tup = (1,2,3,4,5,6,7)\n",
    "set = {1,2,3,4,\"string\",9}\n",
    "dict = { \"Colour\":\"Black\",\"Model\":\"Thunderbird\",\"Price\":2500000 }\n",
    "for k,v in dict.items():\n",
    "    print(k,v)\n",
    "for item in tup:\n",
    "    print(item)\n",
    "for items in set:\n",
    "    print(items)"
   ]
  },
  {
   "cell_type": "markdown",
   "metadata": {},
   "source": [
    "# Task 9"
   ]
  },
  {
   "cell_type": "code",
   "execution_count": null,
   "metadata": {},
   "outputs": [],
   "source": [
    "#Ask 2 numbers from users and store it in num1 and num2\n",
    "#Ask user to press 1 for addition,2 for subtraction,3 for multiplication and 4 for division\n",
    "#create 4 seperate functions for each operation (i.e. addition,subtraction,multiplication and division)\n",
    "#based on number given by user,call that perticular function and print the output"
   ]
  },
  {
   "cell_type": "code",
   "execution_count": 33,
   "metadata": {},
   "outputs": [],
   "source": [
    "#create 4 seperate functions for each operation (i.e. addition,subtraction,multiplication and division)\n",
    "def add(x,y):\n",
    "    sum1 = x+y\n",
    "    print(\"Result of Addition = \",sum1)\n",
    "    \n",
    "def subt(x,y):\n",
    "    diff = x-y\n",
    "    print(\"Result of Substraction = \",diff)\n",
    "    \n",
    "def mult(x,y):\n",
    "    product = x*y\n",
    "    print(\"Result of Multiplication = \",product)\n",
    "    \n",
    "def div(x,y):\n",
    "    division = x/y\n",
    "    print(\"Result of division = \",division)\n",
    "    \n",
    "def calculate():\n",
    "     #Ask 2 numbers from users and store it in num1 and num2\n",
    "     num1 = int(input(\"Enter first number\"))\n",
    "     num2 = int(input(\"Enter second number\"))\n",
    "     #Ask user to press 1 for addition,2 for subtraction,3 for multiplication and 4 for division\n",
    "     print(\"Press 1 for Addition\")\n",
    "     print(\"Press 2 for Subtraction\")\n",
    "     print(\"Press 3 for Multiplication\")\n",
    "     print(\"Press 4 for Division\")\n",
    "     #based on number given by user,call that perticular function and print the output\n",
    "     choice = int(input(\"Enter your choice : \"))\n",
    "     if(choice==1):\n",
    "        add(num1,num2)\n",
    "     elif(choice==2):\n",
    "        subt(num1,num2)\n",
    "     elif(choice==3):\n",
    "        mult(num1,num2)\n",
    "     elif(choice==4):\n",
    "        div(num1,num2)\n",
    "     else:\n",
    "        print(\"Invalid Option\")\n",
    "    \n",
    " \n",
    "\n",
    "    \n",
    "    \n",
    " "
   ]
  },
  {
   "cell_type": "code",
   "execution_count": 34,
   "metadata": {},
   "outputs": [
    {
     "name": "stdout",
     "output_type": "stream",
     "text": [
      "Enter first number10\n",
      "Enter second number5\n",
      "Press 1 for Addition\n",
      "Press 2 for Subtraction\n",
      "Press 3 for Multiplication\n",
      "Press 4 for Division\n",
      "Enter your choice : 4\n",
      "Result of division =  2.0\n"
     ]
    }
   ],
   "source": [
    "\n",
    "calculate()\n",
    "\n"
   ]
  },
  {
   "cell_type": "markdown",
   "metadata": {},
   "source": [
    "# FINDING NUMBER OF WORDS IN A STRING"
   ]
  },
  {
   "cell_type": "code",
   "execution_count": 61,
   "metadata": {},
   "outputs": [
    {
     "name": "stdout",
     "output_type": "stream",
     "text": [
      "Hello world, this is chitti\n",
      "The number of words in the sentence is  5\n"
     ]
    }
   ],
   "source": [
    "c=0\n",
    "string = \"Hello world, this is chitti\"\n",
    "print(string)\n",
    "for char in string:\n",
    "        if(char==\" \"):\n",
    "            c+=1\n",
    "words=c+1\n",
    "print(\"The number of words in the sentence is \",words)\n",
    "    "
   ]
  },
  {
   "cell_type": "code",
   "execution_count": null,
   "metadata": {},
   "outputs": [],
   "source": []
  },
  {
   "cell_type": "code",
   "execution_count": null,
   "metadata": {},
   "outputs": [],
   "source": []
  },
  {
   "cell_type": "code",
   "execution_count": null,
   "metadata": {},
   "outputs": [],
   "source": []
  }
 ],
 "metadata": {
  "kernelspec": {
   "display_name": "Python 3",
   "language": "python",
   "name": "python3"
  },
  "language_info": {
   "codemirror_mode": {
    "name": "ipython",
    "version": 3
   },
   "file_extension": ".py",
   "mimetype": "text/x-python",
   "name": "python",
   "nbconvert_exporter": "python",
   "pygments_lexer": "ipython3",
   "version": "3.7.6"
  }
 },
 "nbformat": 4,
 "nbformat_minor": 4
}
